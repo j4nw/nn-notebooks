{
 "cells": [
  {
   "cell_type": "markdown",
   "metadata": {},
   "source": [
    "# Multi-Layer Perceptron"
   ]
  },
  {
   "cell_type": "code",
   "execution_count": 1,
   "metadata": {},
   "outputs": [],
   "source": [
    "import matplotlib.pyplot as plt\n",
    "import pandas as pd\n",
    "import seaborn as sn\n",
    "from sklearn.metrics import classification_report, confusion_matrix\n",
    "from sklearn.model_selection import cross_val_predict\n",
    "from sklearn.neural_network import MLPClassifier"
   ]
  },
  {
   "cell_type": "code",
   "execution_count": 2,
   "metadata": {},
   "outputs": [],
   "source": [
    "def show_confusion_matrix_heatmap(cm, labels):\n",
    "    cm_df = pd.DataFrame(cm, index=labels, columns=labels)\n",
    "    fig = sn.heatmap(cm_df, annot=True, cmap='viridis')\n",
    "    plt.xlabel('PREDICTED')\n",
    "    plt.xticks(rotation=45)\n",
    "    plt.ylabel('TRUE')\n",
    "    plt.yticks(rotation=45)\n",
    "    plt.show()\n",
    "    \n",
    "def show_report(y, y_pred, labels):\n",
    "    cr = classification_report(y, y_pred, target_names=labels)\n",
    "    print(cr)\n",
    "    cm = confusion_matrix(y, y_pred)\n",
    "    show_confusion_matrix_heatmap(cm, labels)"
   ]
  },
  {
   "cell_type": "code",
   "execution_count": 3,
   "metadata": {},
   "outputs": [],
   "source": [
    "clf = MLPClassifier(max_iter=1000)"
   ]
  },
  {
   "cell_type": "markdown",
   "metadata": {},
   "source": [
    "The default parameters for MLP used by sklearn can be seen [here](http://scikit-learn.org/stable/modules/generated/sklearn.neural_network.MLPClassifier.html)."
   ]
  },
  {
   "cell_type": "markdown",
   "metadata": {},
   "source": [
    "## Iris dataset"
   ]
  },
  {
   "cell_type": "code",
   "execution_count": 4,
   "metadata": {},
   "outputs": [
    {
     "name": "stdout",
     "output_type": "stream",
     "text": [
      "                 precision    recall  f1-score   support\n",
      "\n",
      "Iris-versicolor       1.00      1.00      1.00        50\n",
      " Iris-virginica       0.98      0.94      0.96        50\n",
      "    Iris-setosa       0.94      0.98      0.96        50\n",
      "\n",
      "    avg / total       0.97      0.97      0.97       150\n",
      "\n"
     ]
    },
    {
     "data": {
      "image/png": "[encoded data removed]",
      "text/plain": [
       "<Figure size 432x288 with 2 Axes>"
      ]
     },
     "metadata": {},
     "output_type": "display_data"
    }
   ],
   "source": [
    "df = pd.read_csv('data/iris.data', header=None)\n",
    "X = df.values[:,:-1]\n",
    "y = df.values[:,-1]\n",
    "labels = list(set(y))\n",
    "y_pred = cross_val_predict(clf, X, y, cv=10)\n",
    "show_report(y, y_pred, labels)"
   ]
  }
 ],
 "metadata": {
  "kernelspec": {
   "display_name": "Python 3",
   "language": "python",
   "name": "python3"
  },
  "language_info": {
   "codemirror_mode": {
    "name": "ipython",
    "version": 3
   },
   "file_extension": ".py",
   "mimetype": "text/x-python",
   "name": "python",
   "nbconvert_exporter": "python",
   "pygments_lexer": "ipython3",
   "version": "3.6.5"
  }
 },
 "nbformat": 4,
 "nbformat_minor": 2
}
