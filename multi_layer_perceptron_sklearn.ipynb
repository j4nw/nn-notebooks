{
 "cells": [
  {
   "cell_type": "markdown",
   "metadata": {},
   "source": [
    "# Multi-Layer Perceptron"
   ]
  },
  {
   "cell_type": "code",
   "execution_count": 1,
   "metadata": {},
   "outputs": [],
   "source": [
    "import matplotlib.pyplot as plt\n",
    "import pandas as pd\n",
    "import seaborn as sns\n",
    "from sklearn.metrics import classification_report, confusion_matrix\n",
    "from sklearn.model_selection import cross_val_predict\n",
    "from sklearn.neural_network import MLPClassifier\n",
    "from sklearn.preprocessing import LabelEncoder, OneHotEncoder"
   ]
  },
  {
   "cell_type": "code",
   "execution_count": 2,
   "metadata": {},
   "outputs": [],
   "source": [
    "def show_confusion_matrix_heatmap(cm, labels):\n",
    "    cm_df = pd.DataFrame(cm, index=labels, columns=labels)\n",
    "    fig = sns.heatmap(cm_df, annot=True, fmt='d', cmap='viridis')\n",
    "    plt.xlabel('PREDICTED')\n",
    "    plt.xticks(rotation=45)\n",
    "    plt.ylabel('TRUE')\n",
    "    plt.yticks(rotation=45)\n",
    "    plt.show()\n",
    "    \n",
    "def show_report(y, y_pred, labels):\n",
    "    cr = classification_report(y, y_pred, target_names=labels)\n",
    "    print(cr)\n",
    "    cm = confusion_matrix(y, y_pred, labels)\n",
    "    show_confusion_matrix_heatmap(cm, labels)"
   ]
  },
  {
   "cell_type": "markdown",
   "metadata": {},
   "source": [
    "All datasets courtesy of:\n",
    "\n",
    "Dua, D. and Karra Taniskidou, E. (2017). [UCI Machine Learning Repository](http://archive.ics.uci.edu/ml). Irvine, CA: University of California, School of Information and Computer Science. "
   ]
  },
  {
   "cell_type": "markdown",
   "metadata": {},
   "source": [
    "## Iris\n",
    "\n",
    "https://archive.ics.uci.edu/ml/datasets/Iris\n",
    "\n",
    "The classic."
   ]
  },
  {
   "cell_type": "code",
   "execution_count": 3,
   "metadata": {},
   "outputs": [
    {
     "name": "stdout",
     "output_type": "stream",
     "text": [
      "                 precision    recall  f1-score   support\n",
      "\n",
      "    Iris-setosa       1.00      1.00      1.00        50\n",
      "Iris-versicolor       0.96      0.96      0.96        50\n",
      " Iris-virginica       0.96      0.96      0.96        50\n",
      "\n",
      "      micro avg       0.97      0.97      0.97       150\n",
      "      macro avg       0.97      0.97      0.97       150\n",
      "   weighted avg       0.97      0.97      0.97       150\n",
      "\n"
     ]
    },
    {
     "data": {
      "image/png": "[encoded data removed]",
      "text/plain": [
       "<Figure size 432x288 with 2 Axes>"
      ]
     },
     "metadata": {
      "needs_background": "light"
     },
     "output_type": "display_data"
    }
   ],
   "source": [
    "clf = MLPClassifier(solver='lbfgs')\n",
    "df = pd.read_csv('data/iris.data', header=None)\n",
    "X = df.values[:,:-1]\n",
    "y = df.values[:,-1]\n",
    "labels = list(sorted(set(y)))\n",
    "y_pred = cross_val_predict(clf, X, y, cv=10)\n",
    "show_report(y, y_pred, labels)"
   ]
  },
  {
   "cell_type": "markdown",
   "metadata": {},
   "source": [
    "## Wine\n",
    "\n",
    "https://archive.ics.uci.edu/ml/datasets/wine\n",
    "\n",
    "The dataset contains chemical analysis results of wines grown in the same region of Italy as 13 attributes.\n",
    "\n",
    "The wines are classified as being made with one of three grape cultivars."
   ]
  },
  {
   "cell_type": "code",
   "execution_count": 4,
   "metadata": {},
   "outputs": [
    {
     "name": "stdout",
     "output_type": "stream",
     "text": [
      "              precision    recall  f1-score   support\n",
      "\n",
      "           1       0.96      0.88      0.92        59\n",
      "           2       0.84      0.86      0.85        71\n",
      "           3       0.76      0.81      0.79        48\n",
      "\n",
      "   micro avg       0.85      0.85      0.85       178\n",
      "   macro avg       0.85      0.85      0.85       178\n",
      "weighted avg       0.86      0.85      0.86       178\n",
      "\n"
     ]
    },
    {
     "data": {
      "image/png": "[encoded data removed]",
      "text/plain": [
       "<Figure size 432x288 with 2 Axes>"
      ]
     },
     "metadata": {
      "needs_background": "light"
     },
     "output_type": "display_data"
    }
   ],
   "source": [
    "clf = MLPClassifier(hidden_layer_sizes=(60,), solver='lbfgs', activation='logistic')\n",
    "df = pd.read_csv('data/wine.data', header=None, dtype={ 0: str })\n",
    "X = df.values[:,1:]\n",
    "y = df.values[:,0]\n",
    "labels = list(sorted(set(y)))\n",
    "y_pred = cross_val_predict(clf, X, y, cv=10)\n",
    "show_report(y, y_pred, labels)"
   ]
  },
  {
   "cell_type": "markdown",
   "metadata": {},
   "source": [
    "The following MLP parameters were chosen:\n",
    "\n",
    "- Single 60 neuron hidden layer. No significant improvements past this amount, or with multiple layers were observed.\n",
    "- [Limited-memory BFGS][bfgs] solver. As suggested in the documentation, this gives better results and converges faster for small datasets than the default [Adam][adam].\n",
    "- [Logistic][log] activation. This gave significantly better results than either [ReLU][relu] (the default) or [hyperbolic tangent][tanh].\n",
    "\n",
    "[bfgs]: https://en.wikipedia.org/wiki/Limited-memory_BFGS\n",
    "[adam]: https://en.wikipedia.org/wiki/Stochastic_gradient_descent#Adam\n",
    "[log]: https://en.wikipedia.org/wiki/Logistic_function\n",
    "[relu]: https://en.wikipedia.org/wiki/Rectifier_(neural_networks)\n",
    "[tanh]: https://en.wikipedia.org/wiki/Hyperbolic_function\n",
    "\n",
    "Cultivar 1 is the easiest to detect, being correctly classified with 86% recall accuracy, or 51 out of 59 times. The remaining 8 times it was misclassified as cultivar 3. The precision is 96%. This means that 51 out of 53 times that the classifier guessed the cultivar as 1, it was right. The [F1 score][f1] takes into account both accuracy and precision.\n",
    "\n",
    "Cultivars 2 and 3 were clearly much more difficult for the network to distinguish. Particularly, the precision for cultivar 3 is only 48%, meaning that more than half of the time, a cultivar the network classified as 3 was either 1 or 2.\n",
    "\n",
    "[f1]: https://en.wikipedia.org/wiki/F1_score"
   ]
  },
  {
   "cell_type": "markdown",
   "metadata": {},
   "source": [
    "## Breast Cancer\n",
    "\n",
    "https://archive.ics.uci.edu/ml/datasets/Breast+Cancer+Wisconsin+(Diagnostic)\n",
    "\n",
    "The dataset contains various measurements of breast mass cell nuclei as 30 attributes.\n",
    "\n",
    "The samples are classified as either benign or malignant."
   ]
  },
  {
   "cell_type": "code",
   "execution_count": 5,
   "metadata": {},
   "outputs": [
    {
     "name": "stdout",
     "output_type": "stream",
     "text": [
      "              precision    recall  f1-score   support\n",
      "\n",
      "      benign       0.95      0.96      0.95       357\n",
      "   malignant       0.94      0.91      0.92       212\n",
      "\n",
      "   micro avg       0.94      0.94      0.94       569\n",
      "   macro avg       0.94      0.93      0.94       569\n",
      "weighted avg       0.94      0.94      0.94       569\n",
      "\n"
     ]
    },
    {
     "data": {
      "image/png": "[encoded data removed]",
      "text/plain": [
       "<Figure size 432x288 with 2 Axes>"
      ]
     },
     "metadata": {
      "needs_background": "light"
     },
     "output_type": "display_data"
    }
   ],
   "source": [
    "clf = MLPClassifier(hidden_layer_sizes=(30,), activation='logistic', max_iter=1000)\n",
    "df = pd.read_csv('data/wdbc.data', header=None)\n",
    "X = df.values[:,2:]\n",
    "y = df.values[:,1]\n",
    "d = { 'B': 'benign', 'M': 'malignant' }\n",
    "y = list(map(lambda l: d[l], y))\n",
    "labels = list(sorted(set(y)))\n",
    "y_pred = cross_val_predict(clf, X, y, cv=10)\n",
    "show_report(y, y_pred, labels)"
   ]
  },
  {
   "cell_type": "markdown",
   "metadata": {},
   "source": [
    "The following MLP parameters were chosen:\n",
    "\n",
    "- Single 30 neuron hidden layer. No significant improvements past this amount, or with multiple layers were observed.\n",
    "- Logistic activation. Again, this gave significantly better results than ReLU, though in this case comparable to hyperbolic tangent.\n",
    "- The default Adam solver gave the best results, though occasionally didn't converge in the default 200 iterations. This was increased accordingly.\n",
    "\n",
    "For a binary classification problem, the precision for a condition is also its true rate.\n",
    "\n",
    "A positive (malignant) diagnosis has 91% precision, or true positive rate, and the corresponding false positive rate is 9%.\n",
    "\n",
    "A negative (benign) diagnosis has 93% precision, or true negative rate, and the false negative rate is 7%.\n",
    "\n",
    "In real world applications, it would desirable to skew the results more towards as much true negative results as possible, even at the cost of the false positive rate going up significantly, so that cancer would have little probability of going undetected (and false positives being corrected in follow-up tests)."
   ]
  },
  {
   "cell_type": "markdown",
   "metadata": {},
   "source": [
    "## Mushroom\n",
    "\n",
    "https://archive.ics.uci.edu/ml/datasets/Mushroom\n",
    "\n",
    "The dataset contains the morphology of mushrooms as 22 attributes, but since these are categorical labels, this grows to 117 after binarizing the data.\n",
    "\n",
    "The mushrooms are classified as either edible or poisonous."
   ]
  },
  {
   "cell_type": "code",
   "execution_count": 6,
   "metadata": {},
   "outputs": [
    {
     "name": "stdout",
     "output_type": "stream",
     "text": [
      "              precision    recall  f1-score   support\n",
      "\n",
      "      edible       0.95      0.99      0.97      4208\n",
      "   poisonous       0.99      0.95      0.97      3916\n",
      "\n",
      "   micro avg       0.97      0.97      0.97      8124\n",
      "   macro avg       0.97      0.97      0.97      8124\n",
      "weighted avg       0.97      0.97      0.97      8124\n",
      "\n"
     ]
    },
    {
     "data": {
      "image/png": "[encoded data removed]",
      "text/plain": [
       "<Figure size 432x288 with 2 Axes>"
      ]
     },
     "metadata": {
      "needs_background": "light"
     },
     "output_type": "display_data"
    }
   ],
   "source": [
    "clf = MLPClassifier(hidden_layer_sizes=(200,), activation='logistic')\n",
    "df = pd.read_csv('data/agaricus-lepiota.data', header=None)\n",
    "X = df.values[:,1:]\n",
    "X = pd.get_dummies(pd.DataFrame(X)).values\n",
    "y = df.values[:,0]\n",
    "d = { 'e': 'edible', 'p': 'poisonous' }\n",
    "y = list(map(lambda l: d[l], y))\n",
    "labels = list(sorted(set(y)))\n",
    "y_pred = cross_val_predict(clf, X, y, cv=10)\n",
    "show_report(y, y_pred, labels)"
   ]
  },
  {
   "cell_type": "markdown",
   "metadata": {},
   "source": [
    "Like the above, this is a binary classification problem. The logic behind the chosen parameters is similar.\n",
    "\n",
    "A positive (poisonous) result has a 99% true positive rate. A negative (edible) result has a 95% true negative rate.\n",
    "\n",
    "Again, like the above, in an application such as this the ideal true negative rate would be 100%. We want to be sure that a mushroom classified as edible is definitely safe to eat, even if it means discarding some edible mushrooms as poisonous because of a higher false positive rate. In the above case, 212 mushrooms would be misclassified as edible."
   ]
  }
 ],
 "metadata": {
  "kernelspec": {
   "display_name": "Python 3",
   "language": "python",
   "name": "python3"
  },
  "language_info": {
   "codemirror_mode": {
    "name": "ipython",
    "version": 3
   },
   "file_extension": ".py",
   "mimetype": "text/x-python",
   "name": "python",
   "nbconvert_exporter": "python",
   "pygments_lexer": "ipython3",
   "version": "3.6.7"
  }
 },
 "nbformat": 4,
 "nbformat_minor": 2
}
