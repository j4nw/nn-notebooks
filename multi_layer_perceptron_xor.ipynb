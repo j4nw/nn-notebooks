{
 "cells": [
  {
   "cell_type": "code",
   "execution_count": 1,
   "metadata": {},
   "outputs": [],
   "source": [
    "import numpy as np"
   ]
  },
  {
   "cell_type": "code",
   "execution_count": 2,
   "metadata": {},
   "outputs": [],
   "source": [
    "def relu(x):\n",
    "    return np.max(0, x)\n",
    "\n",
    "def relu_d(x):\n",
    "    return 1 if x > 0 else 0\n",
    "\n",
    "activation = relu\n",
    "activation_d = relu_d\n",
    "\n",
    "def perceptron_train(data, learning_rate, max_iterations):\n",
    "    best_age = age = 0\n",
    "    best_weights = weights = np.random.rand(data.shape[1] - 1)\n",
    "    best_bias = bias = np.random.random()\n",
    "    for _ in range(max_iterations):\n",
    "        d = data[np.random.randint(len(data))]\n",
    "        x, c = d[:-1], d[-1]\n",
    "        o = perceptron_respond(x, weights, best_bias)\n",
    "        if (o == c):\n",
    "            age += 1\n",
    "            if age > best_age:\n",
    "                best_age = age\n",
    "                best_weights = weights\n",
    "                best_bias = bias\n",
    "        else:\n",
    "            weights = [w + learning_rate * c * x[i] for i, w in enumerate(weights)]\n",
    "            bias += learning_rate * c\n",
    "            age = 0\n",
    "    return best_weights, best_bias\n",
    "\n",
    "def perceptron_respond(datapoint, weights, bias):\n",
    "    return activation(np.dot(datapoint, weights) + bias)"
   ]
  },
  {
   "cell_type": "code",
   "execution_count": 3,
   "metadata": {},
   "outputs": [],
   "source": [
    "X = [[0, 0],\n",
    "     [0, 1],\n",
    "     [1, 0],\n",
    "     [1, 1]]\n",
    "\n",
    "y = [0,\n",
    "     1,\n",
    "     1,\n",
    "     0]"
   ]
  }
 ],
 "metadata": {
  "kernelspec": {
   "display_name": "Python 3",
   "language": "python",
   "name": "python3"
  },
  "language_info": {
   "codemirror_mode": {
    "name": "ipython",
    "version": 3
   },
   "file_extension": ".py",
   "mimetype": "text/x-python",
   "name": "python",
   "nbconvert_exporter": "python",
   "pygments_lexer": "ipython3",
   "version": "3.6.6"
  }
 },
 "nbformat": 4,
 "nbformat_minor": 2
}
