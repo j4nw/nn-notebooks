{
 "cells": [
  {
   "cell_type": "code",
   "execution_count": 1,
   "metadata": {},
   "outputs": [],
   "source": [
    "import numpy as np"
   ]
  },
  {
   "cell_type": "code",
   "execution_count": 2,
   "metadata": {},
   "outputs": [],
   "source": [
    "def bcm_encode(data):\n",
    "    size = len(data[0])\n",
    "    matrix = np.zeros((size, size), dtype=bool)\n",
    "    for d in data:\n",
    "        v = np.matrix(d)\n",
    "        matrix = np.logical_or(matrix, v.T * v)\n",
    "    return matrix\n",
    "\n",
    "def bcm_decode(data, matrix, theta):\n",
    "    return (data * matrix >= theta).A1.astype(int)\n",
    "\n",
    "def is_known(decoded_data):\n",
    "    return any(decoded_data)"
   ]
  },
  {
   "cell_type": "code",
   "execution_count": 3,
   "metadata": {},
   "outputs": [
    {
     "name": "stdout",
     "output_type": "stream",
     "text": [
      "BCM_simple:\n",
      "[[1 1 0 0 0 0]\n",
      " [1 1 0 0 0 1]\n",
      " [0 0 0 0 0 0]\n",
      " [0 0 0 0 0 0]\n",
      " [0 0 0 0 0 0]\n",
      " [0 1 0 0 0 1]]\n",
      "\n",
      "actual data:\n",
      "[1 1 0 0 0 0] -> known\n",
      "[0 1 0 0 0 1] -> known\n",
      "random data:\n",
      "[1 1 0 0 0 1] -> known\n",
      "[0 0 0 0 0 0] -> unknown\n",
      "[0 0 0 0 0 0] -> unknown\n",
      "[0 0 0 0 0 0] -> unknown\n",
      "[0 1 0 0 0 1] -> known\n",
      "[0 1 0 0 0 1] -> known\n",
      "[1 1 0 0 0 0] -> known\n",
      "[0 1 0 0 0 0] -> known\n",
      "[0 0 0 0 0 0] -> unknown\n",
      "[1 1 0 0 0 1] -> known\n"
     ]
    }
   ],
   "source": [
    "data = np.loadtxt('data/BCM_simple.txt').astype(int)\n",
    "m = bcm_encode(data)\n",
    "\n",
    "print('BCM_simple:')\n",
    "print(m.astype(int))\n",
    "print()\n",
    "\n",
    "print('actual data:')\n",
    "for d in data:\n",
    "    a = bcm_decode(d, m, 2)\n",
    "    print(a, '->', 'known' if is_known(a) else 'unknown')\n",
    "\n",
    "random_data = (np.random.rand(10, len(data[0])) > .5).astype(int)\n",
    "print('random data:')\n",
    "for d in random_data:\n",
    "    a = bcm_decode(d, m, 2)\n",
    "    print(a, '->', 'known' if is_known(a) else 'unknown')"
   ]
  },
  {
   "cell_type": "code",
   "execution_count": 4,
   "metadata": {},
   "outputs": [
    {
     "name": "stdout",
     "output_type": "stream",
     "text": [
      "BCM_simple6:\n",
      "[[1 1 0 0 1 0]\n",
      " [1 1 0 0 0 1]\n",
      " [0 0 1 1 1 0]\n",
      " [0 0 1 1 0 1]\n",
      " [1 0 1 0 1 0]\n",
      " [0 1 0 1 0 1]]\n",
      "\n",
      "actual data:\n",
      "[1 1 0 0 0 0] -> known\n",
      "[0 1 0 0 0 1] -> known\n",
      "[0 0 1 1 0 0] -> known\n",
      "[0 0 1 0 1 0] -> known\n",
      "[0 0 0 1 0 1] -> known\n",
      "[1 0 0 0 1 0] -> known\n",
      "random data:\n",
      "[0 0 1 0 1 0] -> known\n",
      "[0 1 0 1 1 0] -> known\n",
      "[0 0 0 0 0 0] -> unknown\n",
      "[1 1 1 1 1 1] -> known\n",
      "[1 0 0 0 1 0] -> known\n",
      "[0 0 0 0 0 0] -> unknown\n",
      "[0 0 1 1 1 0] -> known\n",
      "[1 1 1 0 1 0] -> known\n",
      "[1 1 1 1 1 1] -> known\n",
      "[1 1 0 0 0 1] -> known\n"
     ]
    }
   ],
   "source": [
    "data = np.loadtxt('data/BCM_simple6.txt').astype(int)\n",
    "m = bcm_encode(data)\n",
    "\n",
    "print('BCM_simple6:')\n",
    "print(m.astype(int))\n",
    "print()\n",
    "\n",
    "print('actual data:')\n",
    "for d in data:\n",
    "    a = bcm_decode(d, m, 2)\n",
    "    print(a, '->', 'known' if is_known(a) else 'unknown')\n",
    "\n",
    "random_data = (np.random.rand(10, len(data[0])) > .5).astype(int)\n",
    "print('random data:')\n",
    "for d in random_data:\n",
    "    a = bcm_decode(d, m, 2)\n",
    "    print(a, '->', 'known' if is_known(a) else 'unknown')"
   ]
  }
 ],
 "metadata": {
  "kernelspec": {
   "display_name": "Python 3",
   "language": "python",
   "name": "python3"
  },
  "language_info": {
   "codemirror_mode": {
    "name": "ipython",
    "version": 3
   },
   "file_extension": ".py",
   "mimetype": "text/x-python",
   "name": "python",
   "nbconvert_exporter": "python",
   "pygments_lexer": "ipython3",
   "version": "3.6.5"
  }
 },
 "nbformat": 4,
 "nbformat_minor": 2
}
