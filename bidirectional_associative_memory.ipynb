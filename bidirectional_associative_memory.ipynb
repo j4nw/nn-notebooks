{
 "cells": [
  {
   "cell_type": "code",
   "execution_count": 1,
   "metadata": {},
   "outputs": [],
   "source": [
    "import numpy as np"
   ]
  },
  {
   "cell_type": "code",
   "execution_count": 2,
   "metadata": {},
   "outputs": [],
   "source": [
    "def bam_encode(associations):\n",
    "    left, right = associations[0]\n",
    "    m = np.zeros((len(left), len(right)))\n",
    "    for left, right in associations:\n",
    "        left = np.matrix(left).T\n",
    "        right = np.matrix(right)\n",
    "        m += -2 * (left ^ right) + 1\n",
    "    return m.astype(int)\n",
    "\n",
    "def left_to_right(left, matrix):\n",
    "    left = np.matrix(left)\n",
    "    right = (left * matrix > 0).astype(int)\n",
    "    return right.A1\n",
    "    \n",
    "def right_to_left(right, matrix):\n",
    "    right = np.matrix(right).T\n",
    "    left = (matrix * right > 0).astype(int)\n",
    "    return left.A1"
   ]
  },
  {
   "cell_type": "code",
   "execution_count": 3,
   "metadata": {},
   "outputs": [],
   "source": [
    "associations = [[[0, 1, 1, 1, 0, 1], [1, 1, 0, 0]],\n",
    "                [[1, 0, 0, 1, 0, 0], [1, 0, 1, 0]]]"
   ]
  },
  {
   "cell_type": "code",
   "execution_count": 4,
   "metadata": {},
   "outputs": [
    {
     "name": "stdout",
     "output_type": "stream",
     "text": [
      "[[ 0 -2  2  0]\n",
      " [ 0  2 -2  0]\n",
      " [ 0  2 -2  0]\n",
      " [ 2  0  0 -2]\n",
      " [-2  0  0  2]\n",
      " [ 0  2 -2  0]]\n"
     ]
    }
   ],
   "source": [
    "m = bam_encode(associations)\n",
    "print(m)"
   ]
  },
  {
   "cell_type": "code",
   "execution_count": 5,
   "metadata": {},
   "outputs": [
    {
     "data": {
      "text/plain": [
       "array([1, 1, 0, 0])"
      ]
     },
     "execution_count": 5,
     "metadata": {},
     "output_type": "execute_result"
    }
   ],
   "source": [
    "left_to_right([0, 1, 1, 1, 0, 1], m)"
   ]
  },
  {
   "cell_type": "code",
   "execution_count": 6,
   "metadata": {},
   "outputs": [
    {
     "data": {
      "text/plain": [
       "array([1, 0, 1, 0])"
      ]
     },
     "execution_count": 6,
     "metadata": {},
     "output_type": "execute_result"
    }
   ],
   "source": [
    "left_to_right([1, 0, 0, 1, 0, 0], m)"
   ]
  },
  {
   "cell_type": "code",
   "execution_count": 7,
   "metadata": {},
   "outputs": [
    {
     "data": {
      "text/plain": [
       "array([0, 1, 1, 1, 0, 1])"
      ]
     },
     "execution_count": 7,
     "metadata": {},
     "output_type": "execute_result"
    }
   ],
   "source": [
    "right_to_left([1, 1, 0, 0], m)"
   ]
  },
  {
   "cell_type": "code",
   "execution_count": 8,
   "metadata": {},
   "outputs": [
    {
     "data": {
      "text/plain": [
       "array([1, 0, 0, 1, 0, 0])"
      ]
     },
     "execution_count": 8,
     "metadata": {},
     "output_type": "execute_result"
    }
   ],
   "source": [
    "right_to_left([1, 0, 1, 0], m)"
   ]
  }
 ],
 "metadata": {
  "kernelspec": {
   "display_name": "Python 3",
   "language": "python",
   "name": "python3"
  },
  "language_info": {
   "codemirror_mode": {
    "name": "ipython",
    "version": 3
   },
   "file_extension": ".py",
   "mimetype": "text/x-python",
   "name": "python",
   "nbconvert_exporter": "python",
   "pygments_lexer": "ipython3",
   "version": "3.6.5"
  }
 },
 "nbformat": 4,
 "nbformat_minor": 2
}
