{
 "cells": [
  {
   "cell_type": "code",
   "execution_count": 1,
   "metadata": {},
   "outputs": [],
   "source": [
    "def minkowski(a, b, p):\n",
    "    return sum(abs(a[i] - b[i]) ** p for i in range(len(a))) ** (1 / p)\n",
    "\n",
    "def manhattan(a, b):\n",
    "    return minkowski(a, b, 1)\n",
    "\n",
    "def euclidean(a, b):\n",
    "    return minkowski(a, b, 2)\n",
    "\n",
    "def hamming(a, b):\n",
    "    return sum(int(a[i] != b[i]) for i in len(a))"
   ]
  },
  {
   "cell_type": "code",
   "execution_count": 2,
   "metadata": {},
   "outputs": [],
   "source": [
    "import numpy as np\n",
    "from heapq import nlargest\n",
    "from sklearn.base import BaseEstimator, ClassifierMixin\n",
    "\n",
    "class MyKNN(BaseEstimator, ClassifierMixin):\n",
    "    def __init__(self, k=1, metric=euclidean):\n",
    "        self.k = k\n",
    "        self.metric = metric\n",
    "        \n",
    "    def fit(self, X, y):\n",
    "        self.classes = sorted(list(set(y)))\n",
    "        self.X = X\n",
    "        self.y = y\n",
    "        \n",
    "    def predict(self, X):\n",
    "        return list(map(self.__predict, X))\n",
    "        \n",
    "    def __predict(self, x):\n",
    "        nn_i = [e[0] for e in sorted([(i, x) for i, x in enumerate(self.X)],\n",
    "                                     key=lambda e: self.metric(e[1], x))]\n",
    "        knn_i = nn_i[:self.k]\n",
    "        while True:\n",
    "            \n",
    "            last_nn_dist = self.metric(self.X[knn_i[-1]], x)\n",
    "            next_n_dist = self.metric(self.X[nn_i[len(knn_i)]], x)\n",
    "            if last_nn_dist == next_n_dist: # distance tie\n",
    "                knn_i.append(nn_i[len(knn_i)])\n",
    "                continue\n",
    "                \n",
    "            class_counts = [[self.y[i] for i in knn_i].count(c) for c in self.classes]\n",
    "            top2 = nlargest(2, class_counts)\n",
    "            if top2[0] == top2[1]: # count tie\n",
    "                knn_i.append(nn_i[len(knn_i)])\n",
    "                continue\n",
    "                \n",
    "            return np.argmax(class_counts)"
   ]
  },
  {
   "cell_type": "code",
   "execution_count": 3,
   "metadata": {},
   "outputs": [
    {
     "name": "stdout",
     "output_type": "stream",
     "text": [
      "             precision    recall  f1-score   support\n",
      "\n",
      "     setosa       1.00      1.00      1.00        50\n",
      " versicolor       0.94      0.96      0.95        50\n",
      "  virginica       0.96      0.94      0.95        50\n",
      "\n",
      "avg / total       0.97      0.97      0.97       150\n",
      "\n"
     ]
    }
   ],
   "source": [
    "from sklearn import datasets\n",
    "from sklearn.model_selection import cross_val_predict\n",
    "from sklearn.metrics import classification_report\n",
    "\n",
    "iris = datasets.load_iris()\n",
    "X = iris.data\n",
    "y = iris.target\n",
    "target_names = iris.target_names\n",
    "\n",
    "clf = MyKNN(k=10)\n",
    "y_pred = cross_val_predict(clf, X, y, cv=10)\n",
    "print(classification_report(y, y_pred, target_names=target_names))"
   ]
  }
 ],
 "metadata": {
  "kernelspec": {
   "display_name": "Python 3",
   "language": "python",
   "name": "python3"
  },
  "language_info": {
   "codemirror_mode": {
    "name": "ipython",
    "version": 3
   },
   "file_extension": ".py",
   "mimetype": "text/x-python",
   "name": "python",
   "nbconvert_exporter": "python",
   "pygments_lexer": "ipython3",
   "version": "3.6.5"
  }
 },
 "nbformat": 4,
 "nbformat_minor": 2
}
